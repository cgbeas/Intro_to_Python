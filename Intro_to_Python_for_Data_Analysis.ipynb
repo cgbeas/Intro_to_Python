{
 "cells": [
  {
   "cell_type": "markdown",
   "metadata": {},
   "source": [
    "[Carlos Beas](https://github.com/cgbeas)\n",
    "\n",
    "Software Developer\n",
    "\n",
    "DXC.technology\n",
    "\n",
    "carlos.beas@hpe.com\n",
    "\n",
    "---------------------------------------------------------------------------------------------------------------------\n",
    "\n",
    "\n",
    "# Introduction to Python"
   ]
  },
  {
   "cell_type": "markdown",
   "metadata": {},
   "source": [
    "### Instructions:\n",
    "\n",
    "* If you haven't done so already, install Python:\n",
    "    - Available [here](https://www.python.org/downloads/)\n",
    "\n",
    "    - Alternatively, I recommend dowloading Python along with the [Anaconda](https://www.anaconda.com/download) distribution\n",
    "    \n",
    "        > * [Anaconda](https://www.anaconda.com/download) is a free and open source Python distribution for large-scale data processing.\n",
    "\n",
    "        > * It provides a number of premium data mining and analysis features.\n",
    "\n",
    "        > * Helpful in simplifying [package management, version control](https://conda.io/docs/) and deployment.\n",
    "\n",
    "Once you have python installed, perform the following steps to follow along with the examples:\n",
    "\n",
    "* Go to Start -> Anaconda3 -> Jupyter Notebook\n",
    "* Find supporting material [here]()\n"
   ]
  },
  {
   "cell_type": "markdown",
   "metadata": {},
   "source": [
    "## What is Python?"
   ]
  },
  {
   "cell_type": "markdown",
   "metadata": {},
   "source": [
    "* [Python](https://www.python.org/) is an interpreted high-level programming language for general-purpose programming.\n",
    "\n",
    "* Features a dynamic type system and automatic memory management. \n",
    "    > It supports multiple programming paradigms, including object-oriented, imperative, functional/procedural, and has a large and comprehensive standard library.\n",
    "\n",
    "* Interpreters are available for many operating systems, including:  UNIX, Linux, Windows, OSX\n",
    "\n",
    "* Its design philosophy emphasizes code readability\n",
    "\n",
    "* Provides a great interactive environment (i.e command line, this notebook!)\n",
    "\n",
    "\n",
    "### Under The Hood:\n",
    "\n",
    "* [CPython](https://en.wikipedia.org/wiki/CPython) is the reference implementation of the Python programming language. \n",
    "    > Written in C, CPython is the default and most widely used implementation of the language.\n",
    "  \n",
    "    > CPython compiles your Python code into bytecode and interprets that bytecode in a evaluation loop.\n",
    "\n",
    "    > CPython is one of several \"production-quality\" Python implementations including: \n",
    "        >> * Jython, written in Java for the Java virtual machine (JVM)\n",
    "\n",
    "        >> * PyPy, written in RPython and translated into C\n",
    "\n",
    "        >> * IronPython, which is written in C# for the Common Language Infrastructure.\n",
    "\n",
    "### Cython\n",
    "* There is a separate project that does translate Python code to C, and that is called [Cython](http://cython.readthedocs.io/en/latest/index.html). \n",
    "* Cython adds a few extensions to the Python language, and lets you compile your code to C extensions, code that plugs into the CPython interpreter.\n",
    "\n",
    "        \n"
   ]
  },
  {
   "cell_type": "markdown",
   "metadata": {},
   "source": [
    "# Let's Start Coding!\n",
    "\n",
    "### How to run interactive commands?\n",
    "\n",
    "* Once you've openned and signed in to your UNIX/Linux environment:\n",
    "* Run the following commands:\n",
    "        $ python\n",
    "        Python 2.6.4 (r264:75706, Mar 20 2017, 18:30:48) [C] on sunos5\n",
    "        Type \"help\", \"copyright\", \"credits\" or \"license\" for more information.\n",
    "\n",
    "\n",
    "        >>>print('Hello World')\n",
    "        Hello World\n",
    "        \n",
    "        >>> 2 + 2\n",
    "        4\n",
    "        >>> a = 3\n",
    "        >>> b = 5\n",
    "        >>> c = a + b\n",
    "        >>> print(c)\n",
    "        8\n",
    "        >>> 2 ** 8\n",
    "        256\n"
   ]
  },
  {
   "cell_type": "markdown",
   "metadata": {},
   "source": [
    "The same can be done inside this notebook!"
   ]
  },
  {
   "cell_type": "code",
   "execution_count": 1,
   "metadata": {},
   "outputs": [
    {
     "name": "stdout",
     "output_type": "stream",
     "text": [
      "Hello World\n"
     ]
    }
   ],
   "source": [
    "print('Hello World')"
   ]
  },
  {
   "cell_type": "markdown",
   "metadata": {},
   "source": [
    "## Arithmetic Operations"
   ]
  },
  {
   "cell_type": "code",
   "execution_count": 2,
   "metadata": {},
   "outputs": [
    {
     "name": "stdout",
     "output_type": "stream",
     "text": [
      "3.1416\n",
      "True\n"
     ]
    }
   ],
   "source": [
    "a = 3\n",
    "b = 5\n",
    "\n",
    "#Since it is interpreted language, Python is flexible about variable type casting\n",
    "a = 3.1416\n",
    "b = 'True'\n",
    "print(a)\n",
    "print(b)"
   ]
  },
  {
   "cell_type": "code",
   "execution_count": 4,
   "metadata": {},
   "outputs": [
    {
     "name": "stdout",
     "output_type": "stream",
     "text": [
      "a is 3.1416 and b is 6\n",
      "Addition:  9.1416\n",
      "Subtraction:  -2.8584\n",
      "Multiplication:  18.8496\n",
      "Division:  0.5236\n",
      "Power:  961.4026825309764\n"
     ]
    }
   ],
   "source": [
    "b = 6\n",
    "print(\"a is {} and b is {}\".format(a,b))\n",
    "print('Addition: ', a + b)\n",
    "print('Subtraction: ', a - b)\n",
    "print('Multiplication: ', a * b)\n",
    "print('Division: ', a / b)\n",
    "print('Power: ', a ** b)"
   ]
  },
  {
   "cell_type": "code",
   "execution_count": 5,
   "metadata": {},
   "outputs": [
    {
     "name": "stdout",
     "output_type": "stream",
     "text": [
      "Division:  0.0\n"
     ]
    }
   ],
   "source": [
    "print('Division: ', a // b)"
   ]
  },
  {
   "cell_type": "markdown",
   "metadata": {},
   "source": [
    "### Bit-wise Operations"
   ]
  },
  {
   "cell_type": "code",
   "execution_count": 40,
   "metadata": {},
   "outputs": [
    {
     "name": "stdout",
     "output_type": "stream",
     "text": [
      "Shift Right:  2\n",
      "SHift Left:  10\n",
      "bit-wise OR:  7\n",
      "bit-wise AND:  1\n",
      "bit-wise XOR  6\n"
     ]
    }
   ],
   "source": [
    "a = 5\n",
    "b = 3\n",
    "#binary: 0101\n",
    "print('Shift Right: ', a >> 1)  #0010  --> 2\n",
    "print('SHift Left: ', a << 1)  #1010  --> 10\n",
    "print('bit-wise OR: ', a | b)  #0101 | 0011  -->     0111 --> 7\n",
    "print('bit-wise AND: ', a & b)  #0101 & 0011  -->    0001 --> 1\n",
    "print('bit-wise XOR ', a ^ b)  #0101 ^ 0011  -->     0110 --> 6"
   ]
  },
  {
   "cell_type": "markdown",
   "metadata": {},
   "source": [
    "### String operations"
   ]
  },
  {
   "cell_type": "code",
   "execution_count": 7,
   "metadata": {
    "collapsed": true
   },
   "outputs": [],
   "source": [
    "my_string = 'I Like '"
   ]
  },
  {
   "cell_type": "markdown",
   "metadata": {},
   "source": [
    "Strings are treated as arrays and can be indexed as follows:"
   ]
  },
  {
   "cell_type": "code",
   "execution_count": 41,
   "metadata": {},
   "outputs": [
    {
     "name": "stdout",
     "output_type": "stream",
     "text": [
      "I\n",
      "e\n",
      "I Li\n",
      "ke \n"
     ]
    }
   ],
   "source": [
    "print(my_string[0])  # I\n",
    "print(my_string[5]) # e\n",
    "print(my_string[0:4]) #I Li\n",
    "print(my_string[4:])"
   ]
  },
  {
   "cell_type": "markdown",
   "metadata": {},
   "source": [
    "We can easily concatenate two strings using the '+' operator:"
   ]
  },
  {
   "cell_type": "code",
   "execution_count": 9,
   "metadata": {},
   "outputs": [
    {
     "name": "stdout",
     "output_type": "stream",
     "text": [
      "I Like coffee\n"
     ]
    }
   ],
   "source": [
    "my_new_string = my_string + 'coffee'\n",
    "print(my_new_string)"
   ]
  },
  {
   "cell_type": "markdown",
   "metadata": {},
   "source": [
    "We can also split a string easily with the 'split()' function:"
   ]
  },
  {
   "cell_type": "code",
   "execution_count": 10,
   "metadata": {},
   "outputs": [
    {
     "data": {
      "text/plain": [
       "['I', 'Like', 'coffee']"
      ]
     },
     "execution_count": 10,
     "metadata": {},
     "output_type": "execute_result"
    }
   ],
   "source": [
    "my_new_string.split()"
   ]
  },
  {
   "cell_type": "code",
   "execution_count": 11,
   "metadata": {},
   "outputs": [
    {
     "data": {
      "text/plain": [
       "['something', 'that', 'is', 'separated', 'by commas']"
      ]
     },
     "execution_count": 11,
     "metadata": {},
     "output_type": "execute_result"
    }
   ],
   "source": [
    "this_string = \"something,that,is,separated,by commas\"\n",
    "this_string.split(',')"
   ]
  },
  {
   "cell_type": "markdown",
   "metadata": {},
   "source": [
    "## Functions"
   ]
  },
  {
   "cell_type": "markdown",
   "metadata": {},
   "source": [
    "In order to declare a function in Python:\n",
    "\n",
    "    1.- You must use the special keyword 'def' before the name of your function\n",
    "    2.- No need to specify return type since Python will interpret this at run time\n",
    "    3.- Define the name of the variable your function will accept inside parenthesis that follow the function's name\n",
    "    4.- A colon after closing the parenthesis where you define input argument indicates to python that what follows is the code that will be executed by your function\n",
    "    5.- Remember to use indentation to indicate the lines of code that belong to your function!\n",
    "    6.- Use the 'return' keyword to return any values/structures to the calling function.\n",
    "    \n",
    "Let's look at a simple, yet practical example:"
   ]
  },
  {
   "cell_type": "code",
   "execution_count": 12,
   "metadata": {
    "collapsed": true
   },
   "outputs": [],
   "source": [
    "def removeIllegalCharacters(s):\n",
    "    s = s.replace('\\\\','')\n",
    "    s = s.replace('@','')\n",
    "    return s\n",
    "    "
   ]
  },
  {
   "cell_type": "code",
   "execution_count": 13,
   "metadata": {},
   "outputs": [
    {
     "data": {
      "text/plain": [
       "['078356', 'HILLF', '36262', '275755', 'och']"
      ]
     },
     "execution_count": 13,
     "metadata": {},
     "output_type": "execute_result"
    }
   ],
   "source": [
    "NUM_PAT_ACCT = ['078356\\\\', 'HIL@LF\\\\', '36262\\\\', '\\\\275755', 'och\\\\']\n",
    "CLEAN_NUM_PAT_ACCT = []\n",
    "\n",
    "for val in NUM_PAT_ACCT:\n",
    "    CLEAN_NUM_PAT_ACCT.append(removeIllegalCharacters(val))\n",
    "    \n",
    "CLEAN_NUM_PAT_ACCT"
   ]
  },
  {
   "cell_type": "code",
   "execution_count": 14,
   "metadata": {
    "collapsed": true
   },
   "outputs": [],
   "source": [
    "def addPadding(v):\n",
    "    s = str(v)\n",
    "    s = s.replace('.','')\n",
    "    for i in range(0,10-len(s)):\n",
    "        s = '0' +  s\n",
    "    return s\n",
    "    "
   ]
  },
  {
   "cell_type": "code",
   "execution_count": 15,
   "metadata": {},
   "outputs": [
    {
     "name": "stdout",
     "output_type": "stream",
     "text": [
      "0047227016\n",
      "0003721651\n",
      "0004407166\n",
      "0000001987\n",
      "0031187952\n",
      "0001180278\n",
      "0038225906\n",
      "0028680358\n",
      "0000385478\n",
      "0000015896\n",
      "0027233822\n",
      "0000101337\n",
      "0005060889\n",
      "0035956752\n",
      "0003950156\n",
      "0000001987\n",
      "0034224088\n",
      "0000145051\n",
      "0010602632\n"
     ]
    }
   ],
   "source": [
    "values = [472270.16,\n",
    "372165.1,\n",
    "44071.66,\n",
    "198.7,\n",
    "311879.52,\n",
    "11802.78,\n",
    "382259.06,\n",
    "286803.58,\n",
    "38547.8,\n",
    "158.96,\n",
    "272338.22,\n",
    "10133.7,\n",
    "506088.9,\n",
    "359567.52,\n",
    "39501.56,\n",
    "198.7,\n",
    "342240.88,\n",
    "14505.1,\n",
    "1060263.2]\n",
    "\n",
    "for val in values:\n",
    "    print(addPadding(val))"
   ]
  },
  {
   "cell_type": "markdown",
   "metadata": {},
   "source": [
    "## File I/O"
   ]
  },
  {
   "cell_type": "markdown",
   "metadata": {},
   "source": [
    "Syntax:\n",
    "\n",
    "> file_object  = open(“filename”, “mode”)\n",
    "\n",
    "The modes are: \n",
    "\n",
    "> ‘r’ – Read mode which is used when the file is only being read \n",
    "\n",
    "> ‘w’ – Write mode which is used to edit and write new information to the file (any existing files with the same name will be   erased when this mode is activated) \n",
    "\n",
    "> ‘a’ – Appending mode, which is used to add new data to the end of the file; that is new information is automatically amended to the end \n",
    "\n",
    "> ‘r+’ – Special read and write mode, which is used to handle both actions when working with a file "
   ]
  },
  {
   "cell_type": "markdown",
   "metadata": {},
   "source": [
    "Here is an example of how to read a text file into a data structure:\n",
    "\n",
    "The data structure we will be using is a 'Dictionary', which consist of a collection of tuples (key:value pairs):\n",
    "\n",
    "{'key':value}\n",
    "\n",
    "> Here, 'key' will usually be integer or string. Whatever type of key is chosen, there will only be one key:value pair for a particular key (in other words, there cannot be more than one key with the same value).\n",
    "> Value can be any type of data:\n",
    "    * Integer\n",
    "    * String\n",
    "    * Floating point number\n",
    "    * Arrays\n",
    "    * Array of arrays\n",
    "    * Dictionary of dictionaries\n",
    "    * etc..."
   ]
  },
  {
   "cell_type": "code",
   "execution_count": 16,
   "metadata": {},
   "outputs": [
    {
     "data": {
      "text/plain": [
       "{'\\n': 4,\n",
       " '\"Oh': 1,\n",
       " '\"and': 1,\n",
       " '\"without': 1,\n",
       " '(as': 1,\n",
       " 'Alice': 3,\n",
       " 'Alice\\n': 1,\n",
       " 'Alice,': 1,\n",
       " 'But': 1,\n",
       " 'DOWN': 1,\n",
       " 'I': 1,\n",
       " 'In': 1,\n",
       " 'Oh\\n': 1,\n",
       " 'Once': 1,\n",
       " 'RABBIT-HOLE\\n': 1,\n",
       " 'Rabbit': 3,\n",
       " 'So': 1,\n",
       " 'THE': 1,\n",
       " 'There': 1,\n",
       " 'White': 1,\n",
       " 'a': 8,\n",
       " 'across': 2,\n",
       " 'actually': 1,\n",
       " 'after': 1,\n",
       " 'after\\n': 1,\n",
       " 'and': 5,\n",
       " 'and\\n': 1,\n",
       " 'and,': 1,\n",
       " 'another': 1,\n",
       " 'as': 1,\n",
       " 'at': 1,\n",
       " 'bank,': 1,\n",
       " 'be': 2,\n",
       " 'before': 1,\n",
       " 'beginning': 1,\n",
       " 'book': 1,\n",
       " 'book,\"': 1,\n",
       " 'burning': 1,\n",
       " 'but': 1,\n",
       " 'by': 2,\n",
       " 'close': 1,\n",
       " 'considering': 1,\n",
       " 'conversations': 1,\n",
       " 'conversations?\"\\n': 1,\n",
       " 'could,': 1,\n",
       " 'curiosity,': 1,\n",
       " 'daisies,': 1,\n",
       " 'daisy-chain': 1,\n",
       " 'day': 1,\n",
       " 'dear!': 2,\n",
       " 'did': 1,\n",
       " 'do.': 1,\n",
       " 'down': 2,\n",
       " 'either': 1,\n",
       " 'eyes': 1,\n",
       " 'feel': 1,\n",
       " 'feet,': 1,\n",
       " 'field': 1,\n",
       " 'flashed': 1,\n",
       " 'for': 2,\n",
       " 'get': 1,\n",
       " 'getting': 1,\n",
       " 'had': 3,\n",
       " 'having': 1,\n",
       " 'hear': 1,\n",
       " 'hedge.': 1,\n",
       " 'her': 6,\n",
       " 'her.\\n': 1,\n",
       " 'hurried': 1,\n",
       " 'in': 3,\n",
       " 'in\\n': 1,\n",
       " 'into': 1,\n",
       " 'is': 1,\n",
       " 'it': 6,\n",
       " 'it!': 1,\n",
       " 'it,': 2,\n",
       " 'its': 1,\n",
       " 'itself,': 1,\n",
       " 'just': 1,\n",
       " 'large': 1,\n",
       " 'late!\"': 1,\n",
       " 'looked': 1,\n",
       " 'made': 1,\n",
       " 'making': 1,\n",
       " 'mind': 2,\n",
       " 'moment,': 1,\n",
       " 'much': 1,\n",
       " 'never\\n': 1,\n",
       " 'no': 1,\n",
       " 'nor': 1,\n",
       " 'nothing': 2,\n",
       " 'of': 7,\n",
       " 'of\\n': 1,\n",
       " 'on': 1,\n",
       " 'on,': 1,\n",
       " 'or': 3,\n",
       " 'or\\n': 1,\n",
       " 'out': 3,\n",
       " 'own': 1,\n",
       " 'peeped': 1,\n",
       " 'picking': 1,\n",
       " 'pictures': 2,\n",
       " 'pink': 1,\n",
       " 'pleasure': 1,\n",
       " 'pop': 1,\n",
       " 'rabbit': 1,\n",
       " 'rabbit-hole,': 1,\n",
       " 'ran': 1,\n",
       " 'ran\\n': 1,\n",
       " 'reading,': 1,\n",
       " 'remarkable': 1,\n",
       " 'say': 1,\n",
       " 'see': 1,\n",
       " 'seen': 1,\n",
       " 'shall': 1,\n",
       " 'she': 5,\n",
       " 'sister': 2,\n",
       " 'sitting': 1,\n",
       " 'sleepy': 1,\n",
       " 'so': 1,\n",
       " 'so\\n': 1,\n",
       " 'started': 1,\n",
       " 'stupid),': 1,\n",
       " 'suddenly': 1,\n",
       " 'take\\n': 1,\n",
       " 'that': 1,\n",
       " 'that,': 1,\n",
       " 'the': 9,\n",
       " 'the\\n': 3,\n",
       " 'then': 1,\n",
       " 'think': 1,\n",
       " 'thought': 1,\n",
       " 'time': 1,\n",
       " 'tired': 1,\n",
       " 'to': 7,\n",
       " 'too': 1,\n",
       " 'took': 1,\n",
       " 'trouble': 1,\n",
       " 'twice': 1,\n",
       " 'under\\n': 1,\n",
       " 'up': 1,\n",
       " 'use': 1,\n",
       " 'very': 4,\n",
       " 'waistcoat-pocket': 1,\n",
       " 'waistcoat-pocket,': 1,\n",
       " 'was': 5,\n",
       " 'watch': 1,\n",
       " 'watch\\n': 1,\n",
       " 'way': 1,\n",
       " 'well': 1,\n",
       " 'went': 1,\n",
       " 'what': 1,\n",
       " 'when': 2,\n",
       " 'whether': 1,\n",
       " 'with': 3,\n",
       " 'worth': 1,\n",
       " 'would': 1}"
      ]
     },
     "execution_count": 16,
     "metadata": {},
     "output_type": "execute_result"
    }
   ],
   "source": [
    "my_bag_of_words = {}\n",
    "my_text_file = open('./alice.txt', 'r')\n",
    "for line in my_text_file:\n",
    "    words = line.split(' ')\n",
    "    for word in words:\n",
    "        if( word not in my_bag_of_words.keys()):\n",
    "            my_bag_of_words[word] = 1\n",
    "        else:\n",
    "            my_bag_of_words[word] += 1\n",
    "            \n",
    "my_bag_of_words"
   ]
  },
  {
   "cell_type": "code",
   "execution_count": 17,
   "metadata": {},
   "outputs": [
    {
     "data": {
      "text/plain": [
       "dict_keys(['DOWN', 'THE', 'RABBIT-HOLE\\n', '\\n', 'Alice', 'was', 'beginning', 'to', 'get', 'very', 'tired', 'of', 'sitting', 'by', 'her', 'sister', 'on', 'the\\n', 'bank,', 'and', 'having', 'nothing', 'do.', 'Once', 'or', 'twice', 'she', 'had', 'peeped', 'into', 'book', 'reading,', 'but', 'it', 'no', 'pictures', 'conversations', 'in\\n', 'it,', '\"and', 'what', 'is', 'the', 'use', 'a', 'book,\"', 'thought', 'Alice,', '\"without', 'or\\n', 'conversations?\"\\n', 'So', 'considering', 'in', 'own', 'mind', '(as', 'well', 'as', 'could,', 'for', 'day', 'made', 'feel', 'sleepy', 'stupid),', 'whether', 'pleasure', 'of\\n', 'making', 'daisy-chain', 'would', 'be', 'worth', 'trouble', 'getting', 'up', 'and\\n', 'picking', 'daisies,', 'when', 'suddenly', 'White', 'Rabbit', 'with', 'pink', 'eyes', 'ran\\n', 'close', 'her.\\n', 'There', 'so', 'remarkable', 'that,', 'nor', 'did', 'think', 'so\\n', 'much', 'out', 'way', 'hear', 'say', 'itself,', '\"Oh', 'dear!', 'Oh\\n', 'I', 'shall', 'too', 'late!\"', 'But', 'actually', 'took', 'watch\\n', 'its', 'waistcoat-pocket', 'looked', 'at', 'then', 'hurried', 'on,', 'Alice\\n', 'started', 'feet,', 'flashed', 'across', 'that', 'never\\n', 'before', 'seen', 'rabbit', 'either', 'waistcoat-pocket,', 'watch', 'take\\n', 'and,', 'burning', 'curiosity,', 'ran', 'field', 'after\\n', 'just', 'time', 'see', 'pop', 'down', 'large', 'rabbit-hole,', 'under\\n', 'hedge.', 'In', 'another', 'moment,', 'went', 'after', 'it!'])"
      ]
     },
     "execution_count": 17,
     "metadata": {},
     "output_type": "execute_result"
    }
   ],
   "source": [
    "my_bag_of_words.keys()"
   ]
  },
  {
   "cell_type": "code",
   "execution_count": 18,
   "metadata": {},
   "outputs": [
    {
     "data": {
      "text/plain": [
       "dict_values([1, 1, 1, 4, 3, 5, 1, 7, 1, 4, 1, 7, 1, 2, 6, 2, 1, 3, 1, 5, 1, 2, 1, 1, 3, 1, 5, 3, 1, 1, 1, 1, 1, 6, 1, 2, 1, 1, 2, 1, 1, 1, 9, 1, 8, 1, 1, 1, 1, 1, 1, 1, 1, 3, 1, 2, 1, 1, 1, 1, 2, 1, 1, 1, 1, 1, 1, 1, 1, 1, 1, 1, 2, 1, 1, 1, 1, 1, 1, 1, 2, 1, 1, 3, 3, 1, 1, 1, 1, 1, 1, 1, 1, 1, 1, 1, 1, 1, 1, 3, 1, 1, 1, 1, 1, 2, 1, 1, 1, 1, 1, 1, 1, 1, 1, 1, 1, 1, 1, 1, 1, 1, 1, 1, 1, 1, 2, 1, 1, 1, 1, 1, 1, 1, 1, 1, 1, 1, 1, 1, 1, 1, 1, 1, 1, 1, 2, 1, 1, 1, 1, 1, 1, 1, 1, 1, 1])"
      ]
     },
     "execution_count": 18,
     "metadata": {},
     "output_type": "execute_result"
    }
   ],
   "source": [
    "my_bag_of_words.values()"
   ]
  },
  {
   "cell_type": "markdown",
   "metadata": {},
   "source": [
    "And here is one where we use a data structure to write to a file:"
   ]
  },
  {
   "cell_type": "code",
   "execution_count": 19,
   "metadata": {
    "collapsed": true
   },
   "outputs": [],
   "source": [
    "with open('./my_text_output.txt', 'w') as output_file:\n",
    "    for key in my_bag_of_words.keys():\n",
    "        output_file.write(key + ': ' + str(my_bag_of_words[key]) + '\\n')\n"
   ]
  },
  {
   "cell_type": "markdown",
   "metadata": {},
   "source": [
    "### Let's write our frist script"
   ]
  },
  {
   "cell_type": "markdown",
   "metadata": {},
   "source": [
    "* Copy and paste the following code into a new file.\n",
    "\n",
    "* Call it my_script.py"
   ]
  },
  {
   "cell_type": "code",
   "execution_count": 20,
   "metadata": {},
   "outputs": [
    {
     "name": "stdout",
     "output_type": "stream",
     "text": [
      "8\n"
     ]
    }
   ],
   "source": [
    "##############################\n",
    "# My First Python Script\n",
    "#############################\n",
    "\n",
    "def multiply(a,b):\n",
    "    return a * b\n",
    "\n",
    "result = multiply(2, 4)\n",
    "print(result)\n"
   ]
  },
  {
   "cell_type": "markdown",
   "metadata": {},
   "source": [
    "In order to run your new script, you will call it from the command line by using the following command:\n",
    "\n",
    "    $python my_script.py"
   ]
  },
  {
   "cell_type": "markdown",
   "metadata": {},
   "source": [
    "## How To Write The Cython Version:"
   ]
  },
  {
   "cell_type": "code",
   "execution_count": null,
   "metadata": {
    "collapsed": true
   },
   "outputs": [],
   "source": [
    "##############################\n",
    "# My Compiled Python Program\n",
    "#############################\n",
    "\n",
    "cpdef int multiply(int a, int b):\n",
    "    return a * b\n",
    "\n",
    "cdef int result\n",
    "result = multiply(2, 4)\n",
    "print(result)\n"
   ]
  },
  {
   "cell_type": "markdown",
   "metadata": {},
   "source": [
    "Save the above lines of code in a new file, and call it 'multiply.pyx'"
   ]
  },
  {
   "cell_type": "markdown",
   "metadata": {},
   "source": [
    "You will also need to create a setup.py file which is the equivalent of a 'makefile' for C."
   ]
  },
  {
   "cell_type": "code",
   "execution_count": null,
   "metadata": {
    "collapsed": true
   },
   "outputs": [],
   "source": [
    "from distutils.core import setup\n",
    "from Cython.Build import cythonize\n",
    "\n",
    "setup(\n",
    "    ext_modules = cythonize(\"multiply.pyx\")\n",
    ")\n"
   ]
  },
  {
   "cell_type": "markdown",
   "metadata": {},
   "source": [
    "In the command line, enter:\n",
    "\n",
    "    $python setup.py multiply.pyx"
   ]
  },
  {
   "cell_type": "markdown",
   "metadata": {},
   "source": [
    "## A Scritp for Text Manipulation"
   ]
  },
  {
   "cell_type": "code",
   "execution_count": 21,
   "metadata": {},
   "outputs": [
    {
     "name": "stdout",
     "output_type": "stream",
     "text": [
      "2\n",
      "{'Anchorage': 'False', 'Boston': 'True', 'Chicago': 'False', 'Denver': 'False', 'El Paso': 'True', 'Fairfax': 'False', 'Georgia': 'False', 'Irvine': 'False'}\n"
     ]
    }
   ],
   "source": [
    "##############################\n",
    "# My Second Python Script\n",
    "#############################\n",
    "\n",
    "def parseArray(arr, char):\n",
    "\tmy_dict = {}\n",
    "\tcount = 0\n",
    "\tfor el in arr:\n",
    "\t\tif(char in el):\n",
    "\t\t\tmy_dict[el] = 'True'\n",
    "\t\t\tcount += 1\n",
    "\t\telse:\n",
    "\t\t\tmy_dict[el] = 'False'\n",
    "\n",
    "\treturn count, my_dict\n",
    "        \n",
    "\n",
    "cities = ['Anchorage', 'Boston', 'Chicago', 'Denver',\n",
    "         'El Paso', 'Fairfax', 'Georgia', 'Irvine']\n",
    "\n",
    "count_result, dict_resut = parseArray(cities, 's')\n",
    "\n",
    "print(count_result)\n",
    "print(dict_resut)"
   ]
  },
  {
   "cell_type": "markdown",
   "metadata": {},
   "source": [
    "## Modules\n",
    "\n",
    "The Anaconda distribution comes with a lot of useful python modules which can be imported into our scripts with just a single line of code."
   ]
  },
  {
   "cell_type": "markdown",
   "metadata": {},
   "source": [
    "### CSV"
   ]
  },
  {
   "cell_type": "code",
   "execution_count": 37,
   "metadata": {},
   "outputs": [
    {
     "name": "stdout",
     "output_type": "stream",
     "text": [
      "Carlos Starbucks Pike's Place\n",
      "Jorge McDonalds Morning Joe\n",
      "Steve Dunkin Donuts Blueberry\n",
      "Rogelio Cafeteria Regular\n"
     ]
    }
   ],
   "source": [
    "import csv\n",
    "with open('./example.csv') as csvfile:\n",
    "    reader = csv.DictReader(csvfile)\n",
    "    for row in reader:\n",
    "        print(row['Name'], row['Favorite Coffee Brand'], row['Flavor'])"
   ]
  },
  {
   "cell_type": "code",
   "execution_count": 43,
   "metadata": {},
   "outputs": [
    {
     "data": {
      "text/plain": [
       "<csv.DictReader at 0xc0af908>"
      ]
     },
     "execution_count": 43,
     "metadata": {},
     "output_type": "execute_result"
    }
   ],
   "source": [
    "reader"
   ]
  },
  {
   "cell_type": "markdown",
   "metadata": {},
   "source": [
    "As we can see, csv.DictReader doesn't just return a dictionary.\n",
    "\n",
    "What it returns is actually an object which has methods and variables available to it.\n",
    "\n",
    "We can peek into this object by using the dir() function as follows:"
   ]
  },
  {
   "cell_type": "code",
   "execution_count": 35,
   "metadata": {},
   "outputs": [
    {
     "data": {
      "text/plain": [
       "['__class__',\n",
       " '__delattr__',\n",
       " '__dict__',\n",
       " '__dir__',\n",
       " '__doc__',\n",
       " '__eq__',\n",
       " '__format__',\n",
       " '__ge__',\n",
       " '__getattribute__',\n",
       " '__gt__',\n",
       " '__hash__',\n",
       " '__init__',\n",
       " '__init_subclass__',\n",
       " '__iter__',\n",
       " '__le__',\n",
       " '__lt__',\n",
       " '__module__',\n",
       " '__ne__',\n",
       " '__new__',\n",
       " '__next__',\n",
       " '__reduce__',\n",
       " '__reduce_ex__',\n",
       " '__repr__',\n",
       " '__setattr__',\n",
       " '__sizeof__',\n",
       " '__str__',\n",
       " '__subclasshook__',\n",
       " '__weakref__',\n",
       " '_fieldnames',\n",
       " 'dialect',\n",
       " 'fieldnames',\n",
       " 'line_num',\n",
       " 'reader',\n",
       " 'restkey',\n",
       " 'restval']"
      ]
     },
     "execution_count": 35,
     "metadata": {},
     "output_type": "execute_result"
    }
   ],
   "source": [
    "dir(reader)"
   ]
  },
  {
   "cell_type": "markdown",
   "metadata": {},
   "source": [
    "Let's take a closer look into one of these objects:"
   ]
  },
  {
   "cell_type": "code",
   "execution_count": 36,
   "metadata": {},
   "outputs": [
    {
     "name": "stdout",
     "output_type": "stream",
     "text": [
      "{'_fieldnames': ['Name', 'Favorite Coffee Brand', 'Flavor'], 'restkey': None, 'restval': None, 'reader': <_csv.reader object at 0x000000000C04A8D0>, 'dialect': 'excel', 'line_num': 5}\n"
     ]
    }
   ],
   "source": [
    "print(reader.__dict__)"
   ]
  },
  {
   "cell_type": "code",
   "execution_count": 38,
   "metadata": {},
   "outputs": [
    {
     "name": "stdout",
     "output_type": "stream",
     "text": [
      "['Name', 'Favorite Coffee Brand', 'Flavor']\n"
     ]
    }
   ],
   "source": [
    "print(reader.fieldnames)"
   ]
  },
  {
   "cell_type": "code",
   "execution_count": 44,
   "metadata": {},
   "outputs": [
    {
     "name": "stdout",
     "output_type": "stream",
     "text": [
      "5\n"
     ]
    }
   ],
   "source": [
    "print(reader.line_num)"
   ]
  },
  {
   "cell_type": "markdown",
   "metadata": {},
   "source": [
    "## Pandas\n",
    "\n",
    "Pandas is shortname for \"Python for Analytics and Data Science\".\n",
    "\n",
    "It has been developed over the years by the open source community to become one of the premiere Python modules that comes with the Anaconda distribution.\n",
    "\n",
    "Among the many great features that Pandas has to offer, arguably the greatest one is the great support for the \"Dataframe\" data structure.  It allows a data scientist to quickly load up vast amounts of data into a data structure that makes it incredibly easy and convenient to perform very extensive data exploration and manipulation.\n",
    "\n",
    "Let's look at an example of how to work with it!"
   ]
  },
  {
   "cell_type": "code",
   "execution_count": 1,
   "metadata": {
    "collapsed": true
   },
   "outputs": [],
   "source": [
    "import pandas as pd"
   ]
  },
  {
   "cell_type": "code",
   "execution_count": 2,
   "metadata": {},
   "outputs": [
    {
     "data": {
      "text/html": [
       "<div>\n",
       "<style>\n",
       "    .dataframe thead tr:only-child th {\n",
       "        text-align: right;\n",
       "    }\n",
       "\n",
       "    .dataframe thead th {\n",
       "        text-align: left;\n",
       "    }\n",
       "\n",
       "    .dataframe tbody tr th {\n",
       "        vertical-align: top;\n",
       "    }\n",
       "</style>\n",
       "<table border=\"1\" class=\"dataframe\">\n",
       "  <thead>\n",
       "    <tr style=\"text-align: right;\">\n",
       "      <th></th>\n",
       "      <th>Name</th>\n",
       "      <th>Favorite Coffee Brand</th>\n",
       "      <th>Flavor</th>\n",
       "    </tr>\n",
       "  </thead>\n",
       "  <tbody>\n",
       "    <tr>\n",
       "      <th>0</th>\n",
       "      <td>Carlos</td>\n",
       "      <td>Starbucks</td>\n",
       "      <td>Pike's Place</td>\n",
       "    </tr>\n",
       "    <tr>\n",
       "      <th>1</th>\n",
       "      <td>Jorge</td>\n",
       "      <td>McDonalds</td>\n",
       "      <td>Morning Joe</td>\n",
       "    </tr>\n",
       "    <tr>\n",
       "      <th>2</th>\n",
       "      <td>Steve</td>\n",
       "      <td>Dunkin Donuts</td>\n",
       "      <td>Blueberry</td>\n",
       "    </tr>\n",
       "    <tr>\n",
       "      <th>3</th>\n",
       "      <td>Rogelio</td>\n",
       "      <td>Cafeteria</td>\n",
       "      <td>Regular</td>\n",
       "    </tr>\n",
       "  </tbody>\n",
       "</table>\n",
       "</div>"
      ],
      "text/plain": [
       "      Name Favorite Coffee Brand        Flavor\n",
       "0   Carlos             Starbucks  Pike's Place\n",
       "1    Jorge             McDonalds   Morning Joe\n",
       "2    Steve         Dunkin Donuts     Blueberry\n",
       "3  Rogelio             Cafeteria       Regular"
      ]
     },
     "execution_count": 2,
     "metadata": {},
     "output_type": "execute_result"
    }
   ],
   "source": [
    "my_dataframe = pd.read_csv('./example.csv')\n",
    "my_dataframe"
   ]
  },
  {
   "cell_type": "code",
   "execution_count": 4,
   "metadata": {},
   "outputs": [
    {
     "name": "stdout",
     "output_type": "stream",
     "text": [
      "Starbucks\n"
     ]
    }
   ],
   "source": [
    "for i, value in enumerate(my_dataframe['Name']):\n",
    "    if(value == 'Carlos'):\n",
    "        print(my_dataframe.loc[i,'Favorite Coffee Brand'])"
   ]
  },
  {
   "cell_type": "markdown",
   "metadata": {},
   "source": [
    "## Numpy\n",
    "\n",
    "Another great module is numpy which is the default python library used for numeric computation and working with scientific data.\n",
    "\n",
    "Let's take a look at how we may combine numpy and pandas!"
   ]
  },
  {
   "cell_type": "code",
   "execution_count": 5,
   "metadata": {
    "collapsed": true
   },
   "outputs": [],
   "source": [
    "import numpy as np"
   ]
  },
  {
   "cell_type": "markdown",
   "metadata": {},
   "source": [
    "With numpy, it is easy to create an array of floating point numbers that fall within a range.\n",
    "\n",
    "Here's how:"
   ]
  },
  {
   "cell_type": "code",
   "execution_count": 7,
   "metadata": {},
   "outputs": [
    {
     "data": {
      "text/plain": [
       "array([0, 1, 2, 3])"
      ]
     },
     "execution_count": 7,
     "metadata": {},
     "output_type": "execute_result"
    }
   ],
   "source": [
    "my_range_array = np.arange(0,4)\n",
    "my_range_array"
   ]
  },
  {
   "cell_type": "markdown",
   "metadata": {},
   "source": [
    "Notice above that the left \"limit\" of the range provided is inclusive wheras the right \"limit\" is exclusive.\n",
    "\n",
    "Be mindful of this fact when creating your own arays.\n",
    "\n",
    "Now, let's create an array of numbers equidistant from each other and increasing linearly along a given range:"
   ]
  },
  {
   "cell_type": "code",
   "execution_count": 10,
   "metadata": {},
   "outputs": [
    {
     "data": {
      "text/plain": [
       "array([  0.        ,   2.77777778,   5.55555556,   8.33333333,\n",
       "        11.11111111,  13.88888889,  16.66666667,  19.44444444,\n",
       "        22.22222222,  25.        ])"
      ]
     },
     "execution_count": 10,
     "metadata": {},
     "output_type": "execute_result"
    }
   ],
   "source": [
    "my_linear_array = np.linspace(0,25,10)\n",
    "my_linear_array"
   ]
  },
  {
   "cell_type": "markdown",
   "metadata": {},
   "source": [
    "Lastly, let's look at how we could create an array of random numbers:"
   ]
  },
  {
   "cell_type": "code",
   "execution_count": 14,
   "metadata": {},
   "outputs": [
    {
     "data": {
      "text/plain": [
       "[19.444444444444443,\n",
       " 11.111111111111111,\n",
       " 8.3333333333333321,\n",
       " 16.666666666666664]"
      ]
     },
     "execution_count": 14,
     "metadata": {},
     "output_type": "execute_result"
    }
   ],
   "source": [
    "my_random_array = [np.random.choice(my_linear_array, replace=False) for i in range(0,4)]\n",
    "my_random_array"
   ]
  },
  {
   "cell_type": "markdown",
   "metadata": {},
   "source": [
    "But how is this at all useful!!??"
   ]
  },
  {
   "cell_type": "code",
   "execution_count": 15,
   "metadata": {},
   "outputs": [
    {
     "data": {
      "text/html": [
       "<div>\n",
       "<style>\n",
       "    .dataframe thead tr:only-child th {\n",
       "        text-align: right;\n",
       "    }\n",
       "\n",
       "    .dataframe thead th {\n",
       "        text-align: left;\n",
       "    }\n",
       "\n",
       "    .dataframe tbody tr th {\n",
       "        vertical-align: top;\n",
       "    }\n",
       "</style>\n",
       "<table border=\"1\" class=\"dataframe\">\n",
       "  <thead>\n",
       "    <tr style=\"text-align: right;\">\n",
       "      <th></th>\n",
       "      <th>Name</th>\n",
       "      <th>Favorite Coffee Brand</th>\n",
       "      <th>Flavor</th>\n",
       "      <th>AVG_Visits_per_Month</th>\n",
       "    </tr>\n",
       "  </thead>\n",
       "  <tbody>\n",
       "    <tr>\n",
       "      <th>0</th>\n",
       "      <td>Carlos</td>\n",
       "      <td>Starbucks</td>\n",
       "      <td>Pike's Place</td>\n",
       "      <td>19.444444</td>\n",
       "    </tr>\n",
       "    <tr>\n",
       "      <th>1</th>\n",
       "      <td>Jorge</td>\n",
       "      <td>McDonalds</td>\n",
       "      <td>Morning Joe</td>\n",
       "      <td>11.111111</td>\n",
       "    </tr>\n",
       "    <tr>\n",
       "      <th>2</th>\n",
       "      <td>Steve</td>\n",
       "      <td>Dunkin Donuts</td>\n",
       "      <td>Blueberry</td>\n",
       "      <td>8.333333</td>\n",
       "    </tr>\n",
       "    <tr>\n",
       "      <th>3</th>\n",
       "      <td>Rogelio</td>\n",
       "      <td>Cafeteria</td>\n",
       "      <td>Regular</td>\n",
       "      <td>16.666667</td>\n",
       "    </tr>\n",
       "  </tbody>\n",
       "</table>\n",
       "</div>"
      ],
      "text/plain": [
       "      Name Favorite Coffee Brand        Flavor  AVG_Visits_per_Month\n",
       "0   Carlos             Starbucks  Pike's Place             19.444444\n",
       "1    Jorge             McDonalds   Morning Joe             11.111111\n",
       "2    Steve         Dunkin Donuts     Blueberry              8.333333\n",
       "3  Rogelio             Cafeteria       Regular             16.666667"
      ]
     },
     "execution_count": 15,
     "metadata": {},
     "output_type": "execute_result"
    }
   ],
   "source": [
    "my_dataframe['AVG_Visits_per_Month'] = my_random_array\n",
    "my_dataframe"
   ]
  },
  {
   "cell_type": "markdown",
   "metadata": {},
   "source": [
    "## Why and When Should I Use Python?"
   ]
  },
  {
   "cell_type": "markdown",
   "metadata": {},
   "source": [
    "Python is a very powerful tool when it comes to data wrangling, analysis and mining.\n",
    "\n",
    "I recommend to start using Python in the following scenarios:\n",
    "\n",
    "* When you need to modify the same fields in multiple rows of a text or csv file.\n",
    "* When you have an idea that you want to quickly develop and test without having to use formal coding techniques.\n",
    "* When you are thinking of creating a macro in Excel, I challenge you to create the same idea in a Python script."
   ]
  },
  {
   "cell_type": "markdown",
   "metadata": {},
   "source": [
    "# Resources"
   ]
  },
  {
   "cell_type": "markdown",
   "metadata": {},
   "source": [
    "### [Carlos Beas Github Repo](https://github.com/cgbeas) \n",
    "\n",
    "### [Abel Gomez Github Repo](https://github.com/abgomez/intro-python)\n",
    "\n",
    "### [Official Python Documentation](https://www.python.org/doc/)"
   ]
  }
 ],
 "metadata": {
  "anaconda-cloud": {},
  "kernelspec": {
   "display_name": "Python 3",
   "language": "python",
   "name": "python3"
  },
  "language_info": {
   "codemirror_mode": {
    "name": "ipython",
    "version": 3
   },
   "file_extension": ".py",
   "mimetype": "text/x-python",
   "name": "python",
   "nbconvert_exporter": "python",
   "pygments_lexer": "ipython3",
   "version": "3.6.3"
  }
 },
 "nbformat": 4,
 "nbformat_minor": 1
}
